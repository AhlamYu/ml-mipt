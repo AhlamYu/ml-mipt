{
 "cells": [
  {
   "cell_type": "markdown",
   "metadata": {
    "cellId": "5pqjqzdk1795ns96ao2y9f",
    "id": "0qWhRSKXHNe6"
   },
   "source": [
    "#  **Intro to Deep Learning**"
   ]
  },
  {
   "cell_type": "markdown",
   "metadata": {
    "cellId": "juye6j40rmcrmaw9y4vciq",
    "id": "p6QpMF8zHYRJ"
   },
   "source": [
    "## TensorFlow tutorials for beginners and experts\n",
    "\n",
    "https://www.tensorflow.org/tutorials"
   ]
  },
  {
   "cell_type": "markdown",
   "metadata": {
    "cellId": "tqx9pyph1mf1qjyy9kefr",
    "id": "lRsPpS9NIWFG"
   },
   "source": [
    "### **Dataset** \n",
    "https://www.tensorflow.org/api_docs/python/tf/data/Dataset\n",
    "\n",
    "```\n",
    "The tf.data.Dataset API supports writing descriptive and efficient input pipelines. Dataset usage follows a common pattern:\n",
    "\n",
    "*   Create a source dataset from your input data.\n",
    "*   Apply dataset transformations to preprocess the data.\n",
    "*   Iterate over the dataset and process the elements.\n",
    "\n",
    "Iteration happens in a streaming fashion, so the full dataset does not need to fit into memory.\n",
    "\n",
    "```\n",
    "\n",
    "\n",
    "\n"
   ]
  },
  {
   "cell_type": "code",
   "execution_count": 1,
   "metadata": {
    "cellId": "zkqj55gyd3ndxz6quqwdtm",
    "id": "yv15DL4WJIfV"
   },
   "outputs": [],
   "source": [
    "import tensorflow as tf"
   ]
  },
  {
   "cell_type": "code",
   "execution_count": 1,
   "metadata": {
    "cellId": "voxe0wc6nhhwgj0sj6ox5",
    "colab": {
     "base_uri": "https://localhost:8080/"
    },
    "id": "CZj0iQg8If60",
    "outputId": "33a5cd8b-9c45-4706-90a0-b8cdc06474cf"
   },
   "outputs": [],
   "source": [
    "# the easiest way is to create a dataset from a list\n",
    " \n",
    "dataset = tf.data.Dataset.from_tensor_slices([1, 2, 3])\n",
    "for element in dataset:\n",
    "    print(element)"
   ]
  },
  {
   "cell_type": "code",
   "execution_count": 2,
   "metadata": {
    "cellId": "fz1qjuqqzzjldg62yasz",
    "colab": {
     "base_uri": "https://localhost:8080/"
    },
    "id": "P28XuXgkJjO3",
    "outputId": "d1655a1e-d5d1-40cc-d502-ace7fa07c60b"
   },
   "outputs": [],
   "source": [
    "# you can apply transformations to the dataset\n",
    "dataset = dataset.map(lambda x: x*2)\n",
    "print(list(dataset.as_numpy_iterator()))"
   ]
  },
  {
   "cell_type": "code",
   "execution_count": 3,
   "metadata": {
    "cellId": "6cq1aspesuprwuhhknserc",
    "colab": {
     "base_uri": "https://localhost:8080/"
    },
    "id": "H37meXwlMeUB",
    "outputId": "05cffe98-b4bc-41e1-dfc1-8861c969d6a7"
   },
   "outputs": [],
   "source": [
    "# and filter them\n",
    "dataset = dataset.filter(lambda x: x < 5)\n",
    "print(list(dataset.as_numpy_iterator()))"
   ]
  },
  {
   "cell_type": "markdown",
   "metadata": {
    "cellId": "5py9srihbpdk0hhmogufjm",
    "id": "12M6njK_ROgr"
   },
   "source": [
    "#### Let's generate a dataset with two features"
   ]
  },
  {
   "cell_type": "code",
   "execution_count": 5,
   "metadata": {
    "cellId": "hadvqavok78li6rjc1dxvi",
    "id": "Y1iXTSG1R7pV"
   },
   "outputs": [],
   "source": [
    "from sklearn import datasets\n",
    "import numpy as np\n",
    "\n",
    "from matplotlib import pyplot as plt\n",
    "\n",
    "%matplotlib inline "
   ]
  },
  {
   "cell_type": "code",
   "execution_count": 4,
   "metadata": {
    "cellId": "0yrt7fwz27bglbp3zwjdmo",
    "colab": {
     "base_uri": "https://localhost:8080/",
     "height": 444
    },
    "id": "0QWC6HqGRmiI",
    "outputId": "565e6f8c-a606-43bc-badc-6077a4b4bca1"
   },
   "outputs": [],
   "source": [
    "n_samples = 10000\n",
    "\n",
    "X, y_true = datasets.make_moons(\n",
    "    n_samples=n_samples, noise=0.2\n",
    ")\n",
    "\n",
    "plt.figure(figsize=(7, 7))\n",
    "\n",
    "y_colors = [\"r\" if y else \"g\" for y in y_true]\n",
    "plt.scatter(X[:, 0], X[:, 1], c=y_colors, marker=\".\", s=10)\n",
    "\n",
    "plt.title(\"Generated data\")\n",
    "plt.show()"
   ]
  },
  {
   "cell_type": "markdown",
   "metadata": {
    "cellId": "nredingidub24dnvf1dyc"
   },
   "source": [
    "**Ex 1**: split the dataset into three non-overlapping parts: train, test, val"
   ]
  },
  {
   "cell_type": "code",
   "execution_count": 7,
   "metadata": {
    "cellId": "pgp2ikp73ldj4t7wulppy",
    "id": "y05bTmEVSBrg"
   },
   "outputs": [],
   "source": [
    "# YOUR CODE HERE\n",
    "X_train, y_train = None, None\n",
    "X_val, y_val = None, None\n",
    "X_test, y_test = None, None"
   ]
  },
  {
   "cell_type": "code",
   "execution_count": 5,
   "metadata": {
    "cellId": "kg8nhe86z7a2slumnlslz4",
    "colab": {
     "base_uri": "https://localhost:8080/",
     "height": 265
    },
    "id": "eRS48EWkardd",
    "outputId": "9fc5e230-22a3-4d04-d7de-14d5f9810348"
   },
   "outputs": [],
   "source": [
    "plt.figure(figsize=(10, 4))\n",
    "\n",
    "for i, (x, y_arr) in enumerate([(X_train, y_train), (X_val, y_val), (X_test, y_test)]):\n",
    "    ax = plt.subplot(1, 3, i+1)\n",
    "    y_colors = [\"r\" if y else \"g\" for y in y_arr]\n",
    "    ax.scatter(x[:, 0], x[:, 1], c=y_colors, marker=\".\", s=10)\n",
    "\n",
    "plt.show()"
   ]
  },
  {
   "cell_type": "code",
   "execution_count": 6,
   "metadata": {
    "cellId": "cvjyyl66w3q2bvjo987biw",
    "colab": {
     "base_uri": "https://localhost:8080/"
    },
    "id": "XOFqQCElXr4Q",
    "outputId": "315026ff-dd3f-40e7-d8e9-5a05e1a3342d"
   },
   "outputs": [],
   "source": [
    "print(len(X_train), len(X_val), len(X_test))"
   ]
  },
  {
   "cell_type": "markdown",
   "metadata": {
    "cellId": "rth3ms43g4n3ku91lqdt5y"
   },
   "source": [
    "**Ex 2**: create train and validation datasets"
   ]
  },
  {
   "cell_type": "code",
   "execution_count": 7,
   "metadata": {
    "cellId": "bromqaredyegcwup2lkfr",
    "id": "oXFq5tHaX6Si"
   },
   "outputs": [],
   "source": [
    "# YOUR CODE HERE\n",
    "train_dataset = None\n",
    "val_dataset = None"
   ]
  },
  {
   "cell_type": "markdown",
   "metadata": {
    "cellId": "h0ray2703in51sgdi9n65o",
    "id": "mvYrnN4pZ2Uc"
   },
   "source": [
    "**Ex 2**: shuffle training data, group by batches"
   ]
  },
  {
   "cell_type": "code",
   "execution_count": 10,
   "metadata": {
    "cellId": "4nh6wiz93qk2azoq3y4b23",
    "id": "rUZDqFZrYxJ5"
   },
   "outputs": [],
   "source": [
    "batch_size = 32\n",
    "\n",
    "# YOUR CODE HERE"
   ]
  },
  {
   "cell_type": "code",
   "execution_count": 11,
   "metadata": {
    "cellId": "mlhs0r41t94fjijl9iam7",
    "id": "9I5-ATbQYfD3"
   },
   "outputs": [],
   "source": [
    "sample_x, sample_y = next(iter(train_dataset))"
   ]
  },
  {
   "cell_type": "code",
   "execution_count": 12,
   "metadata": {
    "cellId": "yb02s7zs13db1nhl6nt0c8",
    "colab": {
     "base_uri": "https://localhost:8080/"
    },
    "id": "FRnayu_AZWaM",
    "outputId": "22b8f48a-3c77-463c-8228-18fcfe92df0d"
   },
   "outputs": [],
   "source": [
    "sample_x.shape, sample_y.shape"
   ]
  },
  {
   "cell_type": "code",
   "execution_count": 16,
   "metadata": {
    "cellId": "lvhroqh6qsaid5st1qwcae",
    "colab": {
     "base_uri": "https://localhost:8080/",
     "height": 444
    },
    "id": "sSNe8oscaEtV",
    "outputId": "17c5c80e-ead6-4ada-ccce-836454cc3046"
   },
   "outputs": [],
   "source": [
    "plt.figure(figsize=(7, 7))\n",
    "\n",
    "y_colors = [\"r\" if y else \"g\" for y in sample_y.numpy()]\n",
    "plt.scatter(sample_x.numpy()[:, 0], sample_x.numpy()[:, 1], c=y_colors, marker=\".\", s=10)\n",
    "\n",
    "plt.title(\"Batch data\")\n",
    "plt.show()"
   ]
  },
  {
   "cell_type": "markdown",
   "metadata": {
    "cellId": "shy5to1v4a69lu1y358qj",
    "id": "OrTEebulb0e-"
   },
   "source": [
    "### **Model, Sequential**\n",
    "https://www.tensorflow.org/api_docs/python/tf/keras/Model\n",
    "\n",
    "```\n",
    "Model groups layers into an object with training and inference features.\n",
    "\n",
    "```\n",
    "https://www.tensorflow.org/api_docs/python/tf/keras/Sequential\n",
    "```\n",
    "Sequential groups a linear stack of layers into a tf.keras.Model.\n",
    "```\n"
   ]
  },
  {
   "cell_type": "code",
   "execution_count": 17,
   "metadata": {
    "cellId": "43g0py3rib88kj9lsbp2tk",
    "colab": {
     "base_uri": "https://localhost:8080/",
     "height": 1000
    },
    "id": "OrL-mhAtjMpn",
    "outputId": "3fea8f38-3ad9-4142-c34b-46876e84f6ae"
   },
   "outputs": [],
   "source": [
    "%pip install livelossplot"
   ]
  },
  {
   "cell_type": "code",
   "execution_count": 48,
   "metadata": {
    "cellId": "oqo10w7luojqncsswqs8",
    "id": "7cMqc3SCfTw4"
   },
   "outputs": [],
   "source": [
    "model = tf.keras.Sequential([\n",
    "    tf.keras.Input(shape=(2,)),\n",
    "    tf.keras.layers.Dense(16, activation='relu'),\n",
    "    tf.keras.layers.Dense(1)\n",
    "])"
   ]
  },
  {
   "cell_type": "code",
   "execution_count": 49,
   "metadata": {
    "cellId": "iuevdv0jefcyoq0ho1eb3",
    "id": "lgIQTk2sfdAX"
   },
   "outputs": [],
   "source": [
    "model.compile(\n",
    "    optimizer='sgd',\n",
    "    loss=tf.keras.losses.BinaryCrossentropy(from_logits=True),\n",
    "    metrics=['accuracy'])"
   ]
  },
  {
   "cell_type": "code",
   "execution_count": 18,
   "metadata": {
    "cellId": "10zy6bj5a9xbx61utn5q5d",
    "colab": {
     "base_uri": "https://localhost:8080/"
    },
    "id": "jenNv11PgYjG",
    "outputId": "404ad618-74a3-48b1-8329-a7dfd2d99908"
   },
   "outputs": [],
   "source": [
    "model.summary()"
   ]
  },
  {
   "cell_type": "markdown",
   "metadata": {
    "cellId": "nobsv9mcesbinggzdatv7c",
    "id": "DsBfSptvUu8z"
   },
   "source": [
    "**Ex 4**: explain why do we have exactly this number of trained weights?"
   ]
  },
  {
   "cell_type": "code",
   "execution_count": 19,
   "metadata": {
    "cellId": "2ggw0ej714x7hpn1r5ewws",
    "colab": {
     "base_uri": "https://localhost:8080/",
     "height": 714
    },
    "id": "maPZ8nP0fqml",
    "outputId": "6503b199-59b1-4928-d27f-3aae90a0440b"
   },
   "outputs": [],
   "source": [
    "from livelossplot import PlotLossesKeras\n",
    "\n",
    "model.fit(train_dataset, validation_data=val_dataset, epochs=500, \n",
    "          callbacks=[PlotLossesKeras()], verbose=False)\n"
   ]
  },
  {
   "cell_type": "markdown",
   "metadata": {
    "cellId": "vtp0ne81th8lh7b2p8k3m",
    "id": "nDFu8eiE76hj"
   },
   "source": [
    "**Ex 5**: add `tf.keras.callbacks.EarlyStopping`: https://www.tensorflow.org/api_docs/python/tf/keras/callbacks/EarlyStopping\n"
   ]
  },
  {
   "cell_type": "markdown",
   "metadata": {
    "cellId": "ks1n05y8rfcc6173n15wor"
   },
   "source": [
    "Some more usefull callbacks: https://www.tensorflow.org/api_docs/python/tf/keras/callbacks/ModelCheckpoint\n",
    "\n",
    "More about training and testing the models: https://www.tensorflow.org/tutorials/keras/save_and_load"
   ]
  },
  {
   "cell_type": "code",
   "execution_count": 20,
   "metadata": {
    "cellId": "b7yr4nix4lc1x34yh2x3d3",
    "colab": {
     "base_uri": "https://localhost:8080/"
    },
    "id": "XU4x-BKYklit",
    "outputId": "8ccc15ae-750a-45a0-f568-8f1bfd192666"
   },
   "outputs": [],
   "source": [
    "test_loss, test_acc = model.evaluate(X_test,  y_test, verbose=2)\n",
    "\n",
    "print('\\nTest accuracy:', test_acc)"
   ]
  },
  {
   "cell_type": "code",
   "execution_count": 53,
   "metadata": {
    "cellId": "d5kvo4muevmxfpfn1wou3",
    "id": "smoKD_KIlAEo"
   },
   "outputs": [],
   "source": [
    "x_1 = np.arange(X[:, 0].min(), X[:, 0].max(), 0.05)\n",
    "x_2 = np.arange(X[:, 1].min(), X[:, 1].max(), 0.05)\n",
    "x_1, x_2 = np.meshgrid(x_1, x_2)"
   ]
  },
  {
   "cell_type": "code",
   "execution_count": 21,
   "metadata": {
    "cellId": "i2vs1vdfvep8x5l3t4u4rd",
    "colab": {
     "base_uri": "https://localhost:8080/"
    },
    "id": "CuT-qpBnlkLs",
    "outputId": "f0eabcae-f9b7-4cac-86be-5f73e3f5afae"
   },
   "outputs": [],
   "source": [
    "x_1.shape, x_2.shape\n",
    "\n",
    "X_backgrond = np.concatenate([x_1.flatten()[:, None], x_2.flatten()[:, None]], axis=-1)\n",
    "X_backgrond.shape"
   ]
  },
  {
   "cell_type": "code",
   "execution_count": 55,
   "metadata": {
    "cellId": "6u5lbod946ihqdntr3pc5",
    "id": "K2FO1_Uu9JsL"
   },
   "outputs": [],
   "source": [
    "y_backgrond_logits = model.predict(X_backgrond)\n",
    "y_backgrond = tf.round(tf.nn.sigmoid(y_backgrond_logits))\n",
    "y_backgrond_colors = [\"r\" if y else \"g\" for y in y_backgrond]\n"
   ]
  },
  {
   "cell_type": "code",
   "execution_count": 22,
   "metadata": {
    "cellId": "9gn0xlnoej9x6c5kc7vy7",
    "colab": {
     "base_uri": "https://localhost:8080/",
     "height": 444
    },
    "id": "q9tywJDBkvV8",
    "outputId": "715a0cb8-9f73-4fdd-e6b7-3701905c7c6f"
   },
   "outputs": [],
   "source": [
    "plt.figure(figsize=(7, 7))\n",
    "\n",
    "plt.scatter(X_backgrond[:, 0], X_backgrond[:, 1], c=y_backgrond_colors, marker=\".\", s=30, alpha=0.1)\n",
    "\n",
    "y_colors = [\"r\" if y else \"g\" for y in y_true]\n",
    "plt.scatter(X[:, 0], X[:, 1], c=y_colors, marker=\".\", s=10, alpha=0.1)\n",
    "\n",
    "plt.title(\"Generated data\")\n",
    "plt.show()"
   ]
  },
  {
   "cell_type": "markdown",
   "metadata": {
    "cellId": "9wlmm9wumvu39gfuomv2a",
    "id": "foyeN4LW_N7d"
   },
   "source": [
    "### More usefull keras tutorials\n",
    "\n",
    "https://www.tensorflow.org/tutorials/keras/classification\n",
    "\n",
    "https://www.tensorflow.org/tutorials/quickstart/advanced\n",
    "\n",
    "https://github.com/keras-team/keras-io/blob/master/guides/ipynb/intro_to_keras_for_engineers.ipynb\n",
    "\n",
    "\n",
    "### Usefull layers layers\n",
    "\n",
    "https://www.tensorflow.org/api_docs/python/tf/keras/layers/BatchNormalization\n",
    "\n",
    "https://www.tensorflow.org/api_docs/python/tf/keras/layers/Dropout"
   ]
  },
  {
   "cell_type": "markdown",
   "metadata": {
    "cellId": "7j9w0bad8aqw8241od9ssd",
    "id": "vjb0XVvayXSD"
   },
   "source": [
    "### Download mnist dataset, repeat all the steps, try to find the optimal architecture using dropout and batchnorm\n",
    "\n"
   ]
  },
  {
   "cell_type": "code",
   "execution_count": null,
   "metadata": {
    "cellId": "iqv8x9zcz2h2dtdl7q4cql",
    "colab": {
     "base_uri": "https://localhost:8080/"
    },
    "id": "uJA1D1qt-u8-",
    "outputId": "d09b0175-1af7-4ee7-9366-0cd11aa1b448"
   },
   "outputs": [],
   "source": [
    "# download the mnist dataset\n",
    "\n",
    "mnist = tf.keras.datasets.mnist\n",
    "\n",
    "(x_train_full, y_train_full), (x_test, y_test) = mnist.load_data()\n",
    "x_train_full, x_test = x_train_full / 255.0, x_test / 255.0"
   ]
  },
  {
   "cell_type": "markdown",
   "metadata": {
    "cellId": "8e56dz3nuaauz609ibaj7q",
    "id": "SsKSfJhnCYhI"
   },
   "source": [
    "Since we have a multi-class classification, let's do **one hot encoding** on the labels.\n",
    "​\n",
    "Our answer can take 10 different values. In this case, **one hot encoding** means creating 10 values per label, all of which are zero except for one. We place 1 in the position corresponding to the numerical value of the feature."
   ]
  },
  {
   "cell_type": "code",
   "execution_count": 1,
   "metadata": {
    "cellId": "8654q9y6gnw061elwaj6wrg",
    "id": "NcaIVwW4CXRl"
   },
   "outputs": [],
   "source": [
    "n_values = 10\n",
    "\n",
    "# YOUR CODE HERE\n",
    "y_train_full_one_hot = None\n",
    "y_test_one_hot = None"
   ]
  },
  {
   "cell_type": "code",
   "execution_count": null,
   "metadata": {
    "cellId": "yce1feuzz4k5a2ggu5bp9",
    "colab": {
     "base_uri": "https://localhost:8080/"
    },
    "id": "SL0kIa788Z2Y",
    "outputId": "01588a43-eaf9-45dd-e7d8-499d51ae2014"
   },
   "outputs": [],
   "source": [
    "print(\"Train size = %i, test_size = %i\"%(len(x_train_full),len(x_test)))"
   ]
  },
  {
   "cell_type": "code",
   "execution_count": null,
   "metadata": {
    "cellId": "c9wup33nk5dr2djxq8msu",
    "colab": {
     "base_uri": "https://localhost:8080/",
     "height": 860
    },
    "id": "rwFCZeJHRI9k",
    "outputId": "5196b126-ca41-4d8d-ebdc-a39309fea479"
   },
   "outputs": [],
   "source": [
    "plt.figure(figsize=(15,15))\n",
    "for i in range(9):\n",
    "    plt.subplot(3,3,i+1)\n",
    "    plt.xticks([])\n",
    "    plt.yticks([])\n",
    "    plt.grid(False)\n",
    "    plt.imshow(x_train_full[i], cmap=plt.cm.binary)\n",
    "    plt.xlabel('Class {0}, one hot: {1}'.format(y_train_full[i], y_train_full_one_hot[i]))\n",
    "plt.show()"
   ]
  },
  {
   "cell_type": "markdown",
   "metadata": {
    "cellId": "k79m0euizeslgaps5xh0u",
    "id": "YKrA8TdQ8kjw"
   },
   "source": [
    "**Ex 6**: split train to train and validation"
   ]
  },
  {
   "cell_type": "code",
   "execution_count": null,
   "metadata": {
    "cellId": "1rqvlo0jont6pwnck7iw5v",
    "id": "u7C5BptG8jT8"
   },
   "outputs": [],
   "source": [
    "# YOUR CODE HERE"
   ]
  },
  {
   "cell_type": "markdown",
   "metadata": {
    "cellId": "jwk5cohl4sifh5g522arj",
    "id": "E1cqQ_fC9sMf"
   },
   "source": [
    "Build the Sequential model similar to the first half of the lesson.\n",
    "\n",
    "To convert images into vector form, use the Flatten layer: https://www.tensorflow.org/api_docs/python/tf/keras/layers/Flatten\n"
   ]
  },
  {
   "cell_type": "code",
   "execution_count": 2,
   "metadata": {
    "cellId": "554vg7vdcktf69bfwjsai",
    "id": "67oGoSiD9j3h"
   },
   "outputs": [],
   "source": [
    "# YOUR CODE HERE"
   ]
  },
  {
   "cell_type": "markdown",
   "metadata": {
    "cellId": "s1cv2ynydknkl21ns5ksi9",
    "id": "nwJYRyhP-Y75"
   },
   "source": [
    "**Ex 7**: Compile and train the model\n",
    "\n",
    "We have a multi-class classification, so we need to use **CategoricalCrossentropy** instead of the **BinaryCrossentropy** loss:\n",
    "\n",
    "https://www.tensorflow.org/api_docs/python/tf/keras/losses/CategoricalCrossentropy"
   ]
  },
  {
   "cell_type": "code",
   "execution_count": null,
   "metadata": {
    "cellId": "a4330btkud619e5xc16ckx",
    "id": "9amZ4YrV-Uu9"
   },
   "outputs": [],
   "source": [
    "# YOUR CODE HERE"
   ]
  }
 ],
 "metadata": {
  "colab": {
   "collapsed_sections": [],
   "name": "ml_practice_5_intro_to_deep_learning.ipynb",
   "provenance": []
  },
  "kernelspec": {
   "display_name": "Python 3 (ipykernel)",
   "language": "python",
   "name": "python3"
  },
  "language_info": {
   "codemirror_mode": {
    "name": "ipython",
    "version": 3
   },
   "file_extension": ".py",
   "mimetype": "text/x-python",
   "name": "python",
   "nbconvert_exporter": "python",
   "pygments_lexer": "ipython3",
   "version": "3.8.9"
  },
  "notebookId": "f65574ef-df77-45ce-9923-7a02fd026ee2",
  "notebookPath": "ml_practice_5_intro_to_deep_learning.ipynb"
 },
 "nbformat": 4,
 "nbformat_minor": 4
}
