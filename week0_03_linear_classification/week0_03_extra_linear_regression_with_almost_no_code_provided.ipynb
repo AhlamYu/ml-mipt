{
 "cells": [
  {
   "cell_type": "markdown",
   "id": "68bf3a10",
   "metadata": {},
   "source": [
    "# Let's try to make our first toy machine learning pipeline, there are step-by-step instructions below.\n"
   ]
  },
  {
   "cell_type": "markdown",
   "id": "a4abc765",
   "metadata": {},
   "source": [
    "1) Generate toy dataset with linear dependancy y from given X. It's differently scaled features, by the way."
   ]
  },
  {
   "cell_type": "code",
   "execution_count": null,
   "id": "3c651b32",
   "metadata": {},
   "outputs": [],
   "source": [
    "import numpy as np\n",
    "\n",
    "n_features = 10\n",
    "n_objects = 10000\n",
    "\n",
    "X = np.random.uniform(-100, 100, (n_objects, n_features)) * np.arange(n_features)\n",
    "\n",
    "# YOUR CODE HERE"
   ]
  },
  {
   "cell_type": "markdown",
   "id": "2734af5a",
   "metadata": {},
   "source": [
    "2) Split it to train and test."
   ]
  },
  {
   "cell_type": "code",
   "execution_count": null,
   "id": "5f8ca00a",
   "metadata": {},
   "outputs": [],
   "source": [
    "from sklearn.model_selection import train_test_split\n",
    "\n",
    "# YOUR CODE HERE"
   ]
  },
  {
   "cell_type": "markdown",
   "id": "b6e19ead",
   "metadata": {},
   "source": [
    "3) Fill LinearRergessionSGD class using example from the class."
   ]
  },
  {
   "cell_type": "code",
   "execution_count": null,
   "id": "29973660",
   "metadata": {},
   "outputs": [],
   "source": [
    "from sklearn.base import BaseEstimator, RegressorMixin\n",
    "\n",
    "class LinearRergessionSGD(BaseEstimator, RegressorMixin):\n",
    "    '''LinearRergession with L2 regularization and SGD optimizer\n",
    "    '''\n",
    "    def __init__(\n",
    "        self, C: float=1.0,\n",
    "        batch_size: int=25,\n",
    "        lr: float=1e-2,\n",
    "        num_steps: int=200,\n",
    "    ) -> None:\n",
    "        self.C = C\n",
    "        self.batch_size = batch_size\n",
    "        self.lr = lr\n",
    "        self.num_steps = num_steps\n",
    "\n",
    "    def fit(self, X, Y):\n",
    "        # YOUR CODE HERE\n",
    "        self.w = w\n",
    "        return self\n",
    "\n",
    "    def predict(self, X):\n",
    "        # YOUR CODE HERE\n",
    "        pass"
   ]
  },
  {
   "cell_type": "markdown",
   "id": "97ce0f3b",
   "metadata": {},
   "source": [
    "4) Fit linear rergession."
   ]
  },
  {
   "cell_type": "code",
   "execution_count": null,
   "id": "ceb8b6a9",
   "metadata": {},
   "outputs": [],
   "source": [
    "lr = LinearRergessionSGD().fit(x_train, y_train)"
   ]
  },
  {
   "cell_type": "markdown",
   "id": "ab80a128",
   "metadata": {},
   "source": [
    "5) Test it."
   ]
  },
  {
   "cell_type": "code",
   "execution_count": null,
   "id": "5a43c701",
   "metadata": {},
   "outputs": [],
   "source": [
    "# YOUR CODE HERE"
   ]
  },
  {
   "cell_type": "markdown",
   "id": "85d0f615",
   "metadata": {},
   "source": [
    "6) During our SGD we've encountered too big values to store in float. That leads us to feature normalization. Lest's scale features: just subtract mean from each feature and divide by sample variation."
   ]
  },
  {
   "cell_type": "code",
   "execution_count": null,
   "id": "8bc4e04c",
   "metadata": {},
   "outputs": [],
   "source": [
    "from sklearn.preprocessing import StandardScaler\n",
    "\n",
    "# YOUR CODE HERE"
   ]
  },
  {
   "cell_type": "markdown",
   "id": "6683f619",
   "metadata": {},
   "source": [
    "7) Train and test it."
   ]
  },
  {
   "cell_type": "code",
   "execution_count": null,
   "id": "11cdc89c",
   "metadata": {},
   "outputs": [],
   "source": [
    "from sklearn.pipeline import make_pipeline\n",
    "\n",
    "# YOUR CODE HERE"
   ]
  }
 ],
 "metadata": {
  "kernelspec": {
   "display_name": "Python 3 (ipykernel)",
   "language": "python",
   "name": "python3"
  },
  "language_info": {
   "codemirror_mode": {
    "name": "ipython",
    "version": 3
   },
   "file_extension": ".py",
   "mimetype": "text/x-python",
   "name": "python",
   "nbconvert_exporter": "python",
   "pygments_lexer": "ipython3",
   "version": "3.8.9"
  }
 },
 "nbformat": 4,
 "nbformat_minor": 5
}
