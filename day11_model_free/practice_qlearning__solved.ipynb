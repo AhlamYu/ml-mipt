{
  "nbformat": 4,
  "nbformat_minor": 0,
  "metadata": {
    "colab": {
      "name": "seminar_qlearning.ipynb",
      "provenance": []
    },
    "language_info": {
      "name": "python"
    },
    "kernelspec": {
      "name": "python3",
      "display_name": "Python 3"
    }
  },
  "cells": [
    {
      "cell_type": "markdown",
      "metadata": {
        "id": "bXq0vWvMPXuQ"
      },
      "source": [
        "## Q-learning (3 points)\n",
        "\n",
        "This notebook will guide you through implementation of vanilla Q-learning algorithm.\n",
        "\n",
        "You need to implement QLearningAgent (follow instructions for each method) and use it on a number of tests below."
      ]
    },
    {
      "cell_type": "code",
      "metadata": {
        "id": "1-O78tSwPXuZ",
        "outputId": "92a99d42-9890-493b-ed76-77dee6ec8d37",
        "colab": {
          "base_uri": "https://localhost:8080/"
        }
      },
      "source": [
        "import sys, os\n",
        "if 'google.colab' in sys.modules and not os.path.exists('.setup_complete'):\n",
        "    !wget -q https://raw.githubusercontent.com/yandexdataschool/Practical_RL/master/setup_colab.sh -O- | bash\n",
        "\n",
        "    !touch .setup_complete\n",
        "\n",
        "# This code creates a virtual display to draw game images on.\n",
        "# It will have no effect if your machine has a monitor.\n",
        "if type(os.environ.get(\"DISPLAY\")) is not str or len(os.environ.get(\"DISPLAY\")) == 0:\n",
        "    !bash ../xvfb start\n",
        "    os.environ['DISPLAY'] = ':1'"
      ],
      "execution_count": 1,
      "outputs": [
        {
          "output_type": "stream",
          "name": "stdout",
          "text": [
            "Selecting previously unselected package xvfb.\n",
            "(Reading database ... 156210 files and directories currently installed.)\n",
            "Preparing to unpack .../xvfb_2%3a1.19.6-1ubuntu4.10_amd64.deb ...\n",
            "Unpacking xvfb (2:1.19.6-1ubuntu4.10) ...\n",
            "Setting up xvfb (2:1.19.6-1ubuntu4.10) ...\n",
            "Processing triggers for man-db (2.8.3-2ubuntu0.1) ...\n",
            "Starting virtual X frame buffer: Xvfb.\n"
          ]
        }
      ]
    },
    {
      "cell_type": "code",
      "metadata": {
        "id": "b4pyMllfPXuf"
      },
      "source": [
        "import numpy as np\n",
        "import matplotlib.pyplot as plt\n",
        "%matplotlib inline"
      ],
      "execution_count": null,
      "outputs": []
    },
    {
      "cell_type": "code",
      "metadata": {
        "id": "ZcBBQXRxPXuh"
      },
      "source": [
        "from collections import defaultdict\n",
        "import random\n",
        "import math\n",
        "import numpy as np\n",
        "\n",
        "\n",
        "class QLearningAgent:\n",
        "    def __init__(self, alpha, epsilon, discount, get_legal_actions):\n",
        "        \"\"\"\n",
        "        Q-Learning Agent\n",
        "        based on https://inst.eecs.berkeley.edu/~cs188/sp19/projects.html\n",
        "        Instance variables you have access to\n",
        "          - self.epsilon (exploration prob)\n",
        "          - self.alpha (learning rate)\n",
        "          - self.discount (discount rate aka gamma)\n",
        "\n",
        "        Functions you should use\n",
        "          - self.get_legal_actions(state) {state, hashable -> list of actions, each is hashable}\n",
        "            which returns legal actions for a state\n",
        "          - self.get_qvalue(state,action)\n",
        "            which returns Q(state,action)\n",
        "          - self.set_qvalue(state,action,value)\n",
        "            which sets Q(state,action) := value\n",
        "        !!!Important!!!\n",
        "        Note: please avoid using self._qValues directly. \n",
        "            There's a special self.get_qvalue/set_qvalue for that.\n",
        "        \"\"\"\n",
        "\n",
        "        self.get_legal_actions = get_legal_actions\n",
        "        self._qvalues = defaultdict(lambda: defaultdict(lambda: 0))\n",
        "        self.alpha = alpha\n",
        "        self.epsilon = epsilon\n",
        "        self.discount = discount\n",
        "\n",
        "    def get_qvalue(self, state, action):\n",
        "        \"\"\" Returns Q(state,action) \"\"\"\n",
        "        return self._qvalues[state][action]\n",
        "\n",
        "    def set_qvalue(self, state, action, value):\n",
        "        \"\"\" Sets the Qvalue for [state,action] to the given value \"\"\"\n",
        "        self._qvalues[state][action] = value\n",
        "\n",
        "    #---------------------START OF YOUR CODE---------------------#\n",
        "\n",
        "    def get_value(self, state):\n",
        "        \"\"\"\n",
        "        Compute your agent's estimate of V(s) using current q-values\n",
        "        Note: please take into account that q-values can be negative.\n",
        "        V(s) = max_over_action Q(state,action) over possible actions.\n",
        "        \"\"\"\n",
        "        possible_actions = self.get_legal_actions(state)\n",
        "\n",
        "        # If there are no legal actions, return 0.0\n",
        "        if len(possible_actions) == 0:\n",
        "            return 0.0\n",
        "        \n",
        "        value = max([self.get_qvalue(state, action) for action in possible_actions])\n",
        "        # <YOUR CODE>\n",
        "\n",
        "        return value\n",
        "\n",
        "    def update(self, state, action, reward, next_state):\n",
        "        \"\"\"\n",
        "        You should do your Q-Value update here:\n",
        "           Q(s,a) := (1 - alpha) * Q(s,a) + alpha * (r + gamma * V(s'))\n",
        "        \"\"\"\n",
        "\n",
        "        # agent parameters\n",
        "        gamma = self.discount\n",
        "        learning_rate = self.alpha\n",
        "\n",
        "        # <YOUR CODE>\n",
        "        update = reward + gamma * self.get_value(next_state)\n",
        "        new_qvalue = (1 - learning_rate) * self.get_qvalue(state, action) + learning_rate * update\n",
        "\n",
        "        self.set_qvalue(state, action, new_qvalue)\n",
        "\n",
        "    def get_best_action(self, state):\n",
        "        \"\"\"\n",
        "        Compute the best action to take in a state (using current q-values). \n",
        "        \"\"\"\n",
        "        possible_actions = self.get_legal_actions(state)\n",
        "\n",
        "        # If there are no legal actions, return None\n",
        "        if len(possible_actions) == 0:\n",
        "            return None\n",
        "\n",
        "        all_pairs = [\n",
        "             (self.get_qvalue(state, action), action)\n",
        "             for action in possible_actions\n",
        "             ]\n",
        "        \n",
        "        if len(set([x[0] for x in all_pairs])) == 1:\n",
        "          return np.random.choice(possible_actions)\n",
        "        else:\n",
        "          return max(all_pairs, key=lambda x: x[0])[1]\n",
        "\n",
        "    def get_action(self, state):\n",
        "        \"\"\"\n",
        "        Compute the action to take in the current state, including exploration.  \n",
        "        With probability self.epsilon, we should take a random action.\n",
        "            otherwise - the best policy action (self.get_best_action).\n",
        "\n",
        "        Note: To pick randomly from a list, use random.choice(list). \n",
        "              To pick True or False with a given probablity, generate uniform number in [0, 1]\n",
        "              and compare it with your probability\n",
        "        \"\"\"\n",
        "\n",
        "        # Pick Action\n",
        "        possible_actions = self.get_legal_actions(state)\n",
        "        action = None\n",
        "\n",
        "        # If there are no legal actions, return None\n",
        "        if len(possible_actions) == 0:\n",
        "            return None\n",
        "\n",
        "        # agent parameters:\n",
        "        epsilon = self.epsilon\n",
        "\n",
        "        if np.random.random() > epsilon:\n",
        "          return self.get_best_action(state)\n",
        "        else:\n",
        "          return np.random.choice(possible_actions)"
      ],
      "execution_count": 15,
      "outputs": []
    },
    {
      "cell_type": "code",
      "source": [
        "np.random.random()"
      ],
      "metadata": {
        "id": "cPL2LcY-6YM6",
        "outputId": "530cfaea-3fd5-40f7-a41b-dda44a129e48",
        "colab": {
          "base_uri": "https://localhost:8080/"
        }
      },
      "execution_count": 16,
      "outputs": [
        {
          "output_type": "execute_result",
          "data": {
            "text/plain": [
              "0.8002796147639142"
            ]
          },
          "metadata": {},
          "execution_count": 16
        }
      ]
    },
    {
      "cell_type": "markdown",
      "metadata": {
        "id": "R1rmlrTtPXul"
      },
      "source": [
        "### Try it on taxi\n",
        "\n",
        "Here we use the qlearning agent on taxi env from openai gym.\n",
        "You will need to insert a few agent functions here."
      ]
    },
    {
      "cell_type": "code",
      "source": [
        "from matplotlib import pyplot as plt\n"
      ],
      "metadata": {
        "id": "KYYv3Nnh8MFk"
      },
      "execution_count": 17,
      "outputs": []
    },
    {
      "cell_type": "code",
      "metadata": {
        "id": "4g0XkFVCPXum"
      },
      "source": [
        "import gym\n",
        "env = gym.make(\"Taxi-v3\")\n",
        "\n",
        "n_actions = env.action_space.n"
      ],
      "execution_count": 18,
      "outputs": []
    },
    {
      "cell_type": "code",
      "metadata": {
        "id": "7FZzpxtUPXuo"
      },
      "source": [
        "agent = QLearningAgent(\n",
        "    alpha=0.5, epsilon=0.25, discount=0.99,\n",
        "    get_legal_actions=lambda s: range(n_actions))"
      ],
      "execution_count": 19,
      "outputs": []
    },
    {
      "cell_type": "code",
      "metadata": {
        "id": "IfbS1qIzPXup"
      },
      "source": [
        "def play_and_train(env, agent, t_max=10**4):\n",
        "    \"\"\"\n",
        "    This function should \n",
        "    - run a full game, actions given by agent's e-greedy policy\n",
        "    - train agent using agent.update(...) whenever it is possible\n",
        "    - return total reward\n",
        "    \"\"\"\n",
        "    total_reward = 0.0\n",
        "    s = env.reset()\n",
        "\n",
        "    for t in range(t_max):\n",
        "        # get agent to pick action given state s.\n",
        "        a = agent.get_action(s)\n",
        "\n",
        "        next_s, r, done, _ = env.step(a)\n",
        "\n",
        "        # train (update) agent for state s\n",
        "        agent.update(s, a, r, next_s)\n",
        "\n",
        "        s = next_s\n",
        "        total_reward += r\n",
        "        if done:\n",
        "            break\n",
        "\n",
        "    return total_reward"
      ],
      "execution_count": 20,
      "outputs": []
    },
    {
      "cell_type": "code",
      "metadata": {
        "id": "GB7igYkJPXur",
        "outputId": "8c126e43-678c-4767-a4af-3f75cd385b22",
        "colab": {
          "base_uri": "https://localhost:8080/",
          "height": 301
        }
      },
      "source": [
        "from IPython.display import clear_output\n",
        "\n",
        "rewards = []\n",
        "for i in range(1000):\n",
        "    rewards.append(play_and_train(env, agent))\n",
        "    agent.epsilon *= 0.99\n",
        "\n",
        "    if i % 100 == 0:\n",
        "        clear_output(True)\n",
        "        plt.title('eps = {:e}, mean reward = {:.1f}'.format(agent.epsilon, np.mean(rewards[-10:])))\n",
        "        plt.plot(rewards)\n",
        "        plt.show()"
      ],
      "execution_count": 21,
      "outputs": [
        {
          "output_type": "display_data",
          "data": {
            "text/plain": [
              "<Figure size 432x288 with 1 Axes>"
            ],
            "image/png": "[encoded data removed]"
          },
          "metadata": {
            "needs_background": "light"
          }
        }
      ]
    },
    {
      "cell_type": "markdown",
      "metadata": {
        "id": "srF2ZK8ZPXuw"
      },
      "source": [
        "# Binarized state spaces\n",
        "\n",
        "Use agent to train efficiently on `CartPole-v0`. This environment has a continuous set of possible states, so you will have to group them into bins somehow.\n",
        "\n",
        "The simplest way is to use `round(x, n_digits)` (or `np.round`) to round a real number to a given amount of digits. The tricky part is to get the `n_digits` right for each state to train effectively.\n",
        "\n",
        "Note that you don't need to convert state to integers, but to __tuples__ of any kind of values."
      ]
    },
    {
      "cell_type": "code",
      "metadata": {
        "id": "dlLPudHmPXuz",
        "outputId": "6e897d95-2dbc-477f-ee25-20f8863fee3a",
        "colab": {
          "base_uri": "https://localhost:8080/",
          "height": 325
        }
      },
      "source": [
        "def make_env():\n",
        "    return gym.make('CartPole-v0').env  # .env unwraps the TimeLimit wrapper\n",
        "\n",
        "env = make_env()\n",
        "n_actions = env.action_space.n\n",
        "\n",
        "print(\"first state: %s\" % (env.reset()))\n",
        "plt.imshow(env.render('rgb_array'))"
      ],
      "execution_count": 22,
      "outputs": [
        {
          "output_type": "stream",
          "name": "stdout",
          "text": [
            "first state: [ 0.03759978  0.04017597  0.03465472 -0.04641811]\n"
          ]
        },
        {
          "output_type": "execute_result",
          "data": {
            "text/plain": [
              "<matplotlib.image.AxesImage at 0x7fbe58591250>"
            ]
          },
          "metadata": {},
          "execution_count": 22
        },
        {
          "output_type": "display_data",
          "data": {
            "text/plain": [
              "<Figure size 432x288 with 1 Axes>"
            ],
            "image/png": "[encoded data removed]"
          },
          "metadata": {
            "needs_background": "light"
          }
        }
      ]
    },
    {
      "cell_type": "markdown",
      "metadata": {
        "id": "fBfQ0ueOPXu1"
      },
      "source": [
        "### Play a few games\n",
        "\n",
        "We need to estimate observation distributions. To do so, we'll play a few games and record all states."
      ]
    },
    {
      "cell_type": "code",
      "metadata": {
        "id": "q4cuF3Z2PXu3"
      },
      "source": [
        "def visualize_cartpole_observation_distribution(seen_observations):\n",
        "    seen_observations = np.array(seen_observations)\n",
        "    \n",
        "    # The meaning of the observations is documented in\n",
        "    # https://github.com/openai/gym/blob/master/gym/envs/classic_control/cartpole.py\n",
        "\n",
        "    f, axarr = plt.subplots(2, 2, figsize=(16, 9), sharey=True)\n",
        "    for i, title in enumerate(['Cart Position', 'Cart Velocity', 'Pole Angle', 'Pole Velocity At Tip']):\n",
        "        ax = axarr[i // 2, i % 2]\n",
        "        ax.hist(seen_observations[:, i], bins=20)\n",
        "        ax.set_title(title)\n",
        "        xmin, xmax = ax.get_xlim()\n",
        "        ax.set_xlim(min(xmin, -xmax), max(-xmin, xmax))\n",
        "        ax.grid()\n",
        "    f.tight_layout()"
      ],
      "execution_count": 23,
      "outputs": []
    },
    {
      "cell_type": "code",
      "metadata": {
        "id": "NLPsHYj9PXu4",
        "outputId": "5e66b24e-78cc-4be3-ef22-4cbee05914f6",
        "colab": {
          "base_uri": "https://localhost:8080/",
          "height": 453
        }
      },
      "source": [
        "seen_observations = []\n",
        "for _ in range(1000):\n",
        "    seen_observations.append(env.reset())\n",
        "    done = False\n",
        "    while not done:\n",
        "        s, r, done, _ = env.step(env.action_space.sample())\n",
        "        seen_observations.append(s)\n",
        "\n",
        "visualize_cartpole_observation_distribution(seen_observations)"
      ],
      "execution_count": 24,
      "outputs": [
        {
          "output_type": "display_data",
          "data": {
            "text/plain": [
              "<Figure size 1152x648 with 4 Axes>"
            ],
            "image/png": "[encoded data removed]"
          },
          "metadata": {
            "needs_background": "light"
          }
        }
      ]
    },
    {
      "cell_type": "markdown",
      "metadata": {
        "id": "LRD_w3LmPXu5"
      },
      "source": [
        "## Binarize environment"
      ]
    },
    {
      "cell_type": "code",
      "metadata": {
        "id": "GtcWYCrOPXu5"
      },
      "source": [
        "from gym.core import ObservationWrapper\n",
        "\n",
        "\n",
        "class Binarizer(ObservationWrapper):\n",
        "    def observation(self, state):\n",
        "        # Hint: you can do that with round(x, n_digits).\n",
        "        # You may pick a different n_digits for each dimension.\n",
        "        dec = [2, 1, 2, 1]\n",
        "        state = [np.round(x, dec[i]) for i, x in enumerate(state)]\n",
        "        #<YOUR CODE: round state to some amount digits>\n",
        "\n",
        "        return tuple(state)"
      ],
      "execution_count": 36,
      "outputs": []
    },
    {
      "cell_type": "code",
      "metadata": {
        "id": "2icHHYCxPXu7"
      },
      "source": [
        "env = Binarizer(make_env())"
      ],
      "execution_count": 37,
      "outputs": []
    },
    {
      "cell_type": "code",
      "source": [
        "env.reset()"
      ],
      "metadata": {
        "id": "r2b3M62--XJj",
        "outputId": "5f09dfc4-8d85-4b70-cba9-1ebdd13d45c4",
        "colab": {
          "base_uri": "https://localhost:8080/"
        }
      },
      "execution_count": 51,
      "outputs": [
        {
          "output_type": "execute_result",
          "data": {
            "text/plain": [
              "(-0.05, 0.0, -0.01, -0.0)"
            ]
          },
          "metadata": {},
          "execution_count": 51
        }
      ]
    },
    {
      "cell_type": "code",
      "metadata": {
        "id": "2g7DfVsUPXu8",
        "outputId": "5c38b5e1-8109-48ad-f9a9-6b754416e7f1",
        "colab": {
          "base_uri": "https://localhost:8080/",
          "height": 453
        }
      },
      "source": [
        "seen_observations = []\n",
        "for _ in range(1000):\n",
        "    seen_observations.append(env.reset())\n",
        "    done = False\n",
        "    while not done:\n",
        "        s, r, done, _ = env.step(env.action_space.sample())\n",
        "        seen_observations.append(s)\n",
        "        if done:\n",
        "            break\n",
        "\n",
        "visualize_cartpole_observation_distribution(seen_observations)"
      ],
      "execution_count": 39,
      "outputs": [
        {
          "output_type": "display_data",
          "data": {
            "text/plain": [
              "<Figure size 1152x648 with 4 Axes>"
            ],
            "image/png": "[encoded data removed]"
          },
          "metadata": {
            "needs_background": "light"
          }
        }
      ]
    },
    {
      "cell_type": "markdown",
      "metadata": {
        "id": "dkeK0W84PXu_"
      },
      "source": [
        "## Learn binarized policy\n",
        "\n",
        "Now let's train a policy that uses binarized state space.\n",
        "\n",
        "__Tips:__\n",
        "\n",
        "* Note that increasing the number of digits for one dimension of the observations increases your state space by a factor of $10$.\n",
        "* If your binarization is too fine-grained, your agent will take much longer than 10000 steps to converge. You can either increase the number of iterations and reduce epsilon decay or change binarization. In practice we found that this kind of mistake is rather frequent.\n",
        "* If your binarization is too coarse, your agent may fail to find the optimal policy. In practice we found that on this particular environment this kind of mistake is rare.\n",
        "* **Start with a coarse binarization** and make it more fine-grained if that seems necessary.\n",
        "* Having $10^3$–$10^4$ distinct states is recommended (`len(agent._qvalues)`), but not required.\n",
        "* If things don't work without annealing $\\varepsilon$, consider adding that, but make sure that it doesn't go to zero too quickly.\n",
        "\n",
        "A reasonable agent should attain an average reward of at least 50."
      ]
    },
    {
      "cell_type": "code",
      "metadata": {
        "id": "vA_pqyStPXvI"
      },
      "source": [
        "import pandas as pd\n",
        "\n",
        "def moving_average(x, span=100):\n",
        "    return pd.DataFrame({'x': np.asarray(x)}).x.ewm(span=span).mean().values"
      ],
      "execution_count": 40,
      "outputs": []
    },
    {
      "cell_type": "code",
      "metadata": {
        "id": "w6ba0mPePXvK"
      },
      "source": [
        "agent = QLearningAgent(\n",
        "    alpha=0.5, epsilon=0.25, discount=0.99,\n",
        "    get_legal_actions=lambda s: range(n_actions))"
      ],
      "execution_count": 41,
      "outputs": []
    },
    {
      "cell_type": "code",
      "source": [
        "rewards = []\n",
        "epsilons = []"
      ],
      "metadata": {
        "id": "wCJgOyAZ_P3F"
      },
      "execution_count": null,
      "outputs": []
    },
    {
      "cell_type": "code",
      "metadata": {
        "id": "rz_-uzRYPXvL",
        "outputId": "711b7686-d7a7-413e-9661-3b00baef8ca2",
        "colab": {
          "base_uri": "https://localhost:8080/",
          "height": 689
        }
      },
      "source": [
        "\n",
        "\n",
        "for i in range(10000):\n",
        "    reward = play_and_train(env, agent)\n",
        "    rewards.append(reward)\n",
        "    epsilons.append(agent.epsilon)\n",
        "    \n",
        "    # OPTIONAL: <YOUR CODE: adjust epsilon>\n",
        "    agent.epsilon *= (1 - 1e-4)\n",
        "    if i % 100 == 0:\n",
        "        rewards_ewma = moving_average(rewards)\n",
        "        \n",
        "        clear_output(True)\n",
        "        plt.plot(rewards, label='rewards')\n",
        "        plt.plot(rewards_ewma, label='rewards ewma@100')\n",
        "        plt.legend()\n",
        "        plt.grid()\n",
        "        plt.title('eps = {:e}, rewards ewma@100 = {:.1f}'.format(agent.epsilon, rewards_ewma[-1]))\n",
        "        plt.show()"
      ],
      "execution_count": 73,
      "outputs": [
        {
          "output_type": "display_data",
          "data": {
            "text/plain": [
              "<Figure size 432x288 with 1 Axes>"
            ],
            "image/png": "[encoded data removed]"
          },
          "metadata": {
            "needs_background": "light"
          }
        },
        {
          "output_type": "error",
          "ename": "KeyboardInterrupt",
          "evalue": "ignored",
          "traceback": [
            "\u001b[0;31m---------------------------------------------------------------------------\u001b[0m",
            "\u001b[0;31mKeyboardInterrupt\u001b[0m                         Traceback (most recent call last)",
            "\u001b[0;32m<ipython-input-73-f7f2b54f144d>\u001b[0m in \u001b[0;36m<module>\u001b[0;34m()\u001b[0m\n\u001b[1;32m      2\u001b[0m \u001b[0;34m\u001b[0m\u001b[0m\n\u001b[1;32m      3\u001b[0m \u001b[0;32mfor\u001b[0m \u001b[0mi\u001b[0m \u001b[0;32min\u001b[0m \u001b[0mrange\u001b[0m\u001b[0;34m(\u001b[0m\u001b[0;36m10000\u001b[0m\u001b[0;34m)\u001b[0m\u001b[0;34m:\u001b[0m\u001b[0;34m\u001b[0m\u001b[0;34m\u001b[0m\u001b[0m\n\u001b[0;32m----> 4\u001b[0;31m     \u001b[0mreward\u001b[0m \u001b[0;34m=\u001b[0m \u001b[0mplay_and_train\u001b[0m\u001b[0;34m(\u001b[0m\u001b[0menv\u001b[0m\u001b[0;34m,\u001b[0m \u001b[0magent\u001b[0m\u001b[0;34m)\u001b[0m\u001b[0;34m\u001b[0m\u001b[0;34m\u001b[0m\u001b[0m\n\u001b[0m\u001b[1;32m      5\u001b[0m     \u001b[0mrewards\u001b[0m\u001b[0;34m.\u001b[0m\u001b[0mappend\u001b[0m\u001b[0;34m(\u001b[0m\u001b[0mreward\u001b[0m\u001b[0;34m)\u001b[0m\u001b[0;34m\u001b[0m\u001b[0;34m\u001b[0m\u001b[0m\n\u001b[1;32m      6\u001b[0m     \u001b[0mepsilons\u001b[0m\u001b[0;34m.\u001b[0m\u001b[0mappend\u001b[0m\u001b[0;34m(\u001b[0m\u001b[0magent\u001b[0m\u001b[0;34m.\u001b[0m\u001b[0mepsilon\u001b[0m\u001b[0;34m)\u001b[0m\u001b[0;34m\u001b[0m\u001b[0;34m\u001b[0m\u001b[0m\n",
            "\u001b[0;32m<ipython-input-20-58ff889a6324>\u001b[0m in \u001b[0;36mplay_and_train\u001b[0;34m(env, agent, t_max)\u001b[0m\n\u001b[1;32m     13\u001b[0m         \u001b[0ma\u001b[0m \u001b[0;34m=\u001b[0m \u001b[0magent\u001b[0m\u001b[0;34m.\u001b[0m\u001b[0mget_action\u001b[0m\u001b[0;34m(\u001b[0m\u001b[0ms\u001b[0m\u001b[0;34m)\u001b[0m\u001b[0;34m\u001b[0m\u001b[0;34m\u001b[0m\u001b[0m\n\u001b[1;32m     14\u001b[0m \u001b[0;34m\u001b[0m\u001b[0m\n\u001b[0;32m---> 15\u001b[0;31m         \u001b[0mnext_s\u001b[0m\u001b[0;34m,\u001b[0m \u001b[0mr\u001b[0m\u001b[0;34m,\u001b[0m \u001b[0mdone\u001b[0m\u001b[0;34m,\u001b[0m \u001b[0m_\u001b[0m \u001b[0;34m=\u001b[0m \u001b[0menv\u001b[0m\u001b[0;34m.\u001b[0m\u001b[0mstep\u001b[0m\u001b[0;34m(\u001b[0m\u001b[0ma\u001b[0m\u001b[0;34m)\u001b[0m\u001b[0;34m\u001b[0m\u001b[0;34m\u001b[0m\u001b[0m\n\u001b[0m\u001b[1;32m     16\u001b[0m \u001b[0;34m\u001b[0m\u001b[0m\n\u001b[1;32m     17\u001b[0m         \u001b[0;31m# train (update) agent for state s\u001b[0m\u001b[0;34m\u001b[0m\u001b[0;34m\u001b[0m\u001b[0;34m\u001b[0m\u001b[0m\n",
            "\u001b[0;32m/usr/local/lib/python3.7/dist-packages/gym/core.py\u001b[0m in \u001b[0;36mstep\u001b[0;34m(self, action)\u001b[0m\n\u001b[1;32m    266\u001b[0m \u001b[0;34m\u001b[0m\u001b[0m\n\u001b[1;32m    267\u001b[0m     \u001b[0;32mdef\u001b[0m \u001b[0mstep\u001b[0m\u001b[0;34m(\u001b[0m\u001b[0mself\u001b[0m\u001b[0;34m,\u001b[0m \u001b[0maction\u001b[0m\u001b[0;34m)\u001b[0m\u001b[0;34m:\u001b[0m\u001b[0;34m\u001b[0m\u001b[0;34m\u001b[0m\u001b[0m\n\u001b[0;32m--> 268\u001b[0;31m         \u001b[0mobservation\u001b[0m\u001b[0;34m,\u001b[0m \u001b[0mreward\u001b[0m\u001b[0;34m,\u001b[0m \u001b[0mdone\u001b[0m\u001b[0;34m,\u001b[0m \u001b[0minfo\u001b[0m \u001b[0;34m=\u001b[0m \u001b[0mself\u001b[0m\u001b[0;34m.\u001b[0m\u001b[0menv\u001b[0m\u001b[0;34m.\u001b[0m\u001b[0mstep\u001b[0m\u001b[0;34m(\u001b[0m\u001b[0maction\u001b[0m\u001b[0;34m)\u001b[0m\u001b[0;34m\u001b[0m\u001b[0;34m\u001b[0m\u001b[0m\n\u001b[0m\u001b[1;32m    269\u001b[0m         \u001b[0;32mreturn\u001b[0m \u001b[0mself\u001b[0m\u001b[0;34m.\u001b[0m\u001b[0mobservation\u001b[0m\u001b[0;34m(\u001b[0m\u001b[0mobservation\u001b[0m\u001b[0;34m)\u001b[0m\u001b[0;34m,\u001b[0m \u001b[0mreward\u001b[0m\u001b[0;34m,\u001b[0m \u001b[0mdone\u001b[0m\u001b[0;34m,\u001b[0m \u001b[0minfo\u001b[0m\u001b[0;34m\u001b[0m\u001b[0;34m\u001b[0m\u001b[0m\n\u001b[1;32m    270\u001b[0m \u001b[0;34m\u001b[0m\u001b[0m\n",
            "\u001b[0;32m/usr/local/lib/python3.7/dist-packages/gym/envs/classic_control/cartpole.py\u001b[0m in \u001b[0;36mstep\u001b[0;34m(self, action)\u001b[0m\n\u001b[1;32m    152\u001b[0m             \u001b[0mreward\u001b[0m \u001b[0;34m=\u001b[0m \u001b[0;36m0.0\u001b[0m\u001b[0;34m\u001b[0m\u001b[0;34m\u001b[0m\u001b[0m\n\u001b[1;32m    153\u001b[0m \u001b[0;34m\u001b[0m\u001b[0m\n\u001b[0;32m--> 154\u001b[0;31m         \u001b[0;32mreturn\u001b[0m \u001b[0mnp\u001b[0m\u001b[0;34m.\u001b[0m\u001b[0marray\u001b[0m\u001b[0;34m(\u001b[0m\u001b[0mself\u001b[0m\u001b[0;34m.\u001b[0m\u001b[0mstate\u001b[0m\u001b[0;34m)\u001b[0m\u001b[0;34m,\u001b[0m \u001b[0mreward\u001b[0m\u001b[0;34m,\u001b[0m \u001b[0mdone\u001b[0m\u001b[0;34m,\u001b[0m \u001b[0;34m{\u001b[0m\u001b[0;34m}\u001b[0m\u001b[0;34m\u001b[0m\u001b[0;34m\u001b[0m\u001b[0m\n\u001b[0m\u001b[1;32m    155\u001b[0m \u001b[0;34m\u001b[0m\u001b[0m\n\u001b[1;32m    156\u001b[0m     \u001b[0;32mdef\u001b[0m \u001b[0mreset\u001b[0m\u001b[0;34m(\u001b[0m\u001b[0mself\u001b[0m\u001b[0;34m)\u001b[0m\u001b[0;34m:\u001b[0m\u001b[0;34m\u001b[0m\u001b[0;34m\u001b[0m\u001b[0m\n",
            "\u001b[0;31mKeyboardInterrupt\u001b[0m: "
          ]
        }
      ]
    },
    {
      "cell_type": "code",
      "source": [
        "def generate_session(env, agent, time_limit=10 ** 4):\n",
        "    state = env.reset()\n",
        "    states, actions = [], []\n",
        "    total_reward = 0.0\n",
        "    for _ in range(time_limit):\n",
        "        # Use agent to predict a vector of action probabilities for current\n",
        "        # state and use the probabilities you predicted to pick an action.\n",
        "        # Sample actions, don't just take the most likely one!\n",
        "\n",
        "        state = (np.round(x, dec[i]) for i, x in enumerate(state))\n",
        "        action = agent.get_action(state)\n",
        "        \n",
        "        new_state, reward, done, _ = env.step(action)\n",
        "\n",
        "\n",
        "        # Record information we just got from the environment.\n",
        "        states.append(state)\n",
        "        actions.append(action)\n",
        "        total_reward += reward\n",
        "\n",
        "        state = new_state\n",
        "        if done:\n",
        "            break\n",
        "\n",
        "    return states, actions, total_reward"
      ],
      "metadata": {
        "id": "AAHIrVoUA7mq"
      },
      "execution_count": 55,
      "outputs": []
    },
    {
      "cell_type": "code",
      "source": [
        "agent.epsilon = 0."
      ],
      "metadata": {
        "id": "PQyWjodeCxxJ"
      },
      "execution_count": 74,
      "outputs": []
    },
    {
      "cell_type": "code",
      "source": [
        "import gym.wrappers\n",
        "\n",
        "\n",
        "with gym.wrappers.Monitor(gym.make(\"CartPole-v0\").env, directory=\"videos\", force=True) as env_monitor:\n",
        "    sessions = [generate_session(env_monitor, agent) for _ in range(100)]"
      ],
      "metadata": {
        "id": "Fv_51BuOAxXH"
      },
      "execution_count": 75,
      "outputs": []
    },
    {
      "cell_type": "code",
      "source": [
        "np.argmax([len(x[0]) for x in sessions])"
      ],
      "metadata": {
        "id": "QCekp2RRCNBh",
        "outputId": "b02a6a33-4e3e-445b-ab6a-c6cf30c0fb40",
        "colab": {
          "base_uri": "https://localhost:8080/"
        }
      },
      "execution_count": 76,
      "outputs": [
        {
          "output_type": "execute_result",
          "data": {
            "text/plain": [
              "20"
            ]
          },
          "metadata": {},
          "execution_count": 76
        }
      ]
    },
    {
      "cell_type": "code",
      "source": [
        "len(sessions[np.argmax([len(x[0]) for x in sessions])][0])"
      ],
      "metadata": {
        "id": "OEnNCmeNCTl7",
        "outputId": "329f4fb6-adca-4b0b-e182-05a697d4a134",
        "colab": {
          "base_uri": "https://localhost:8080/"
        }
      },
      "execution_count": 77,
      "outputs": [
        {
          "output_type": "execute_result",
          "data": {
            "text/plain": [
              "79"
            ]
          },
          "metadata": {},
          "execution_count": 77
        }
      ]
    },
    {
      "cell_type": "code",
      "source": [
        "!ls -lh videos"
      ],
      "metadata": {
        "id": "1E-0g6tcCZyD",
        "outputId": "a82c5a15-1279-4597-e16f-4a4087ce1531",
        "colab": {
          "base_uri": "https://localhost:8080/"
        }
      },
      "execution_count": 78,
      "outputs": [
        {
          "output_type": "stream",
          "name": "stdout",
          "text": [
            "total 56K\n",
            "-rw-r--r-- 1 root root 3.6K Mar 29 18:58 openaigym.episode_batch.5.58.stats.json\n",
            "-rw-r--r-- 1 root root  568 Mar 29 18:58 openaigym.manifest.5.58.manifest.json\n",
            "-rw-r--r-- 1 root root 2.0K Mar 29 18:58 openaigym.video.5.58.video000000.meta.json\n",
            "-rw-r--r-- 1 root root 4.8K Mar 29 18:58 openaigym.video.5.58.video000000.mp4\n",
            "-rw-r--r-- 1 root root 2.0K Mar 29 18:58 openaigym.video.5.58.video000001.meta.json\n",
            "-rw-r--r-- 1 root root 3.6K Mar 29 18:58 openaigym.video.5.58.video000001.mp4\n",
            "-rw-r--r-- 1 root root 2.0K Mar 29 18:58 openaigym.video.5.58.video000008.meta.json\n",
            "-rw-r--r-- 1 root root 6.9K Mar 29 18:58 openaigym.video.5.58.video000008.mp4\n",
            "-rw-r--r-- 1 root root 2.0K Mar 29 18:58 openaigym.video.5.58.video000027.meta.json\n",
            "-rw-r--r-- 1 root root 3.6K Mar 29 18:58 openaigym.video.5.58.video000027.mp4\n",
            "-rw-r--r-- 1 root root 2.0K Mar 29 18:58 openaigym.video.5.58.video000064.meta.json\n",
            "-rw-r--r-- 1 root root 3.3K Mar 29 18:58 openaigym.video.5.58.video000064.mp4\n"
          ]
        }
      ]
    },
    {
      "cell_type": "code",
      "source": [
        "from base64 import b64encode\n",
        "from pathlib import Path\n",
        "\n",
        "from IPython.display import HTML\n",
        "\n",
        "\n",
        "video_paths = sorted([file for file in Path(\"videos\").iterdir() if file.suffix == \".mp4\"])\n",
        "video_path = video_paths[-3]  # You can also try other indices\n",
        "\n",
        "if \"google.colab\" in sys.modules:\n",
        "    # https://stackoverflow.com/a/57378660/1214547\n",
        "    with video_path.open(\"rb\") as fp:\n",
        "        mp4 = fp.read()\n",
        "    data_url = \"data:video/mp4;base64,\" + b64encode(mp4).decode()\n",
        "else:\n",
        "    data_url = str(video_path)\n",
        "\n",
        "HTML(\n",
        "    \"\"\"\n",
        "<video width=\"640\" height=\"480\" controls>\n",
        "  <source src=\"{}\" type=\"video/mp4\">\n",
        "</video>\n",
        "\"\"\".format(\n",
        "        data_url\n",
        "    )\n",
        ")"
      ],
      "metadata": {
        "id": "zHRTLSZ3BPRM",
        "outputId": "fefaa590-5b24-4d79-9fb3-88e0d91fedab",
        "colab": {
          "base_uri": "https://localhost:8080/",
          "height": 521
        }
      },
      "execution_count": 79,
      "outputs": [
        {
          "output_type": "execute_result",
          "data": {
            "text/plain": [
              "<IPython.core.display.HTML object>"
            ],
            "text/html": [
              "\n",
              "<video width=\"640\" height=\"480\" controls>\n",
              "  <source src=\"data:video/mp4;base64,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\" type=\"video/mp4\">\n",
              "</video>\n"
            ]
          },
          "metadata": {},
          "execution_count": 79
        }
      ]
    },
    {
      "cell_type": "code",
      "metadata": {
        "id": "JeuQ7RY5PXvL",
        "outputId": "2eef54cf-8821-426c-c96b-c6380e6f428c",
        "colab": {
          "base_uri": "https://localhost:8080/"
        }
      },
      "source": [
        "print('Your agent has learned {} Q-values.'.format(len(agent._qvalues)))"
      ],
      "execution_count": 61,
      "outputs": [
        {
          "output_type": "stream",
          "name": "stdout",
          "text": [
            "Your agent has learned 167343 Q-values.\n"
          ]
        }
      ]
    },
    {
      "cell_type": "code",
      "source": [
        ""
      ],
      "metadata": {
        "id": "Q_YJXRvVApsc"
      },
      "execution_count": null,
      "outputs": []
    }
  ]
}