{
 "cells": [
  {
   "cell_type": "markdown",
   "metadata": {
    "cellId": "byijlwcvy599r02yj3cgs8",
    "id": "0qWhRSKXHNe6"
   },
   "source": [
    "#  **Practice. Computer vision; convolutional neural networks**"
   ]
  },
  {
   "cell_type": "markdown",
   "metadata": {
    "cellId": "oshli1op8bkq8pvsyv7mm",
    "id": "ArmC3YTC-PuO"
   },
   "source": [
    "## Convolutional neural network"
   ]
  },
  {
   "cell_type": "markdown",
   "metadata": {
    "cellId": "8hnt0nm6rdpaas4rf3864g",
    "id": "foyeN4LW_N7d"
   },
   "source": [
    "### Useful links (tutorials)\n",
    "\n",
    "https://www.tensorflow.org/tutorials/images/classification\n",
    "\n",
    "https://developers.google.com/machine-learning/practica/image-classification/convolutional-neural-networks\n",
    "\n",
    "\n",
    "### Useful links (layers)\n",
    "\n",
    "https://www.tensorflow.org/api_docs/python/tf/keras/layers/BatchNormalization\n",
    "\n",
    "https://www.tensorflow.org/api_docs/python/tf/keras/layers/Conv2D\n",
    "\n",
    "https://www.tensorflow.org/api_docs/python/tf/keras/layers/MaxPool2D\n",
    "\n",
    "https://www.tensorflow.org/api_docs/python/tf/keras/layers/Add"
   ]
  },
  {
   "cell_type": "code",
   "execution_count": null,
   "metadata": {
    "cellId": "frd4xr2yriiqttrh3csy",
    "colab": {
     "base_uri": "https://localhost:8080/"
    },
    "id": "nbBXYWqrm9u8",
    "outputId": "feec9ad3-9322-479b-f0a8-39fbc3ddfbd4"
   },
   "outputs": [],
   "source": [
    "! pip install livelossplot"
   ]
  },
  {
   "cell_type": "markdown",
   "metadata": {
    "cellId": "onpqv9zfidr4d3ma2m1qo7",
    "id": "vjb0XVvayXSD"
   },
   "source": [
    "### **Exercise**: downolad the cifar10 dataset, reproduce one fully-connected architecture from the homework, train\n"
   ]
  },
  {
   "cell_type": "markdown",
   "metadata": {
    "cellId": "xnv2ae7qw07brmz66xdbn",
    "id": "_U1INCKeyzFN"
   },
   "source": [
    "Download the dataset"
   ]
  },
  {
   "cell_type": "code",
   "execution_count": null,
   "metadata": {
    "cellId": "77ja2z3k5zjeyi7cv73rf7",
    "id": "9YBFgVexnQRi"
   },
   "outputs": [],
   "source": [
    "import tensorflow as tf\n",
    "import matplotlib.pyplot as plt\n",
    "\n",
    "%matplotlib inline"
   ]
  },
  {
   "cell_type": "code",
   "execution_count": null,
   "metadata": {
    "cellId": "shd8ivk9fl0bq39jwhfa6c",
    "id": "uJA1D1qt-u8-"
   },
   "outputs": [],
   "source": [
    "(train_images_full, train_labels_full), (test_images, test_labels) = tf.keras.datasets.cifar10.load_data()\n",
    "train_images_full, test_images = train_images_full / 255.0, test_images / 255.0"
   ]
  },
  {
   "cell_type": "code",
   "execution_count": null,
   "metadata": {
    "cellId": "59693tj1y8cjm4rb3f537d",
    "colab": {
     "base_uri": "https://localhost:8080/"
    },
    "id": "SL0kIa788Z2Y",
    "outputId": "18376621-d99d-40ab-e544-4b90af75fe76"
   },
   "outputs": [],
   "source": [
    "print(\"Train size = %i, test_size = %i\"%(len(train_images_full),len(test_images)))"
   ]
  },
  {
   "cell_type": "markdown",
   "metadata": {
    "cellId": "7ol27lxnw4cqv0sq4w43o",
    "id": "bh15IxSHRFj3"
   },
   "source": [
    "Look at the images from the training set"
   ]
  },
  {
   "cell_type": "code",
   "execution_count": null,
   "metadata": {
    "cellId": "vp5vconc0pm9ssd2xvx7",
    "colab": {
     "base_uri": "https://localhost:8080/",
     "height": 860
    },
    "id": "rwFCZeJHRI9k",
    "outputId": "0e5b518e-d0d7-4d22-ad33-6585d8bc7c9a"
   },
   "outputs": [],
   "source": [
    "class_names = ['airplane', 'automobile', 'bird', 'cat', 'deer',\n",
    "               'dog', 'frog', 'horse', 'ship', 'truck']\n",
    "\n",
    "plt.figure(figsize=(15,15))\n",
    "for i in range(9):\n",
    "    plt.subplot(3,3,i+1)\n",
    "    plt.xticks([])\n",
    "    plt.yticks([])\n",
    "    plt.grid(False)\n",
    "    plt.imshow(train_images_full[i], cmap=plt.cm.binary)\n",
    "    plt.xlabel(class_names[train_labels_full[i][0]])\n",
    "plt.show()"
   ]
  },
  {
   "cell_type": "markdown",
   "metadata": {
    "cellId": "wrs0mrtu3dhru465sbqd8i",
    "id": "YKrA8TdQ8kjw"
   },
   "source": [
    "Split traininig set into training and validation sets (1% of the training set)\n"
   ]
  },
  {
   "cell_type": "code",
   "execution_count": null,
   "metadata": {
    "cellId": "8fw2f3205n4tpfpnq5zw",
    "id": "u7C5BptG8jT8"
   },
   "outputs": [],
   "source": [
    "train_images, validation_images, train_labels, validation_labels = ### your code here"
   ]
  },
  {
   "cell_type": "code",
   "execution_count": null,
   "metadata": {
    "cellId": "ycid29nw1yml6dex4wpk1",
    "colab": {
     "base_uri": "https://localhost:8080/"
    },
    "id": "RjeFxXSkvBaV",
    "outputId": "b84c4251-ab79-424a-d85b-054c9e187a25"
   },
   "outputs": [],
   "source": [
    "len(validation_images)"
   ]
  },
  {
   "cell_type": "markdown",
   "metadata": {
    "cellId": "3yfeou4m11o5tlob4vd4sm",
    "id": "X_n_N2SkDRnt"
   },
   "source": [
    "Create a dataset and preprocess it for further training:\n"
   ]
  },
  {
   "cell_type": "code",
   "execution_count": null,
   "metadata": {
    "cellId": "fbb3bz9uf46rzp834cst1o",
    "id": "8zp6h9nkDOWV"
   },
   "outputs": [],
   "source": [
    "batch_size = 512\n",
    "\n",
    "train_dataset = ### your code here\n",
    "\n",
    "val_dataset = ### your code here\n"
   ]
  },
  {
   "cell_type": "markdown",
   "metadata": {
    "cellId": "vx2lw00r6gbilp7uh6txmd",
    "id": "E1cqQ_fC9sMf"
   },
   "source": [
    "Build a Sequential Model like in the first part of the class. \n",
    "\n",
    "Use a Flatten layer to represent images as vectors: https://www.tensorflow.org/api_docs/python/tf/keras/layers/Flatten\n"
   ]
  },
  {
   "cell_type": "code",
   "execution_count": null,
   "metadata": {
    "cellId": "vi9pp6sni7aoh4u4cwtdd",
    "id": "67oGoSiD9j3h"
   },
   "outputs": [],
   "source": [
    "from tensorflow.keras import layers\n",
    "\n",
    "\n",
    "input_shape = train_images.shape[-3:]\n",
    "\n",
    "dense_model = tf.keras.Sequential([\n",
    "    ### your code here\n",
    "])"
   ]
  },
  {
   "cell_type": "markdown",
   "metadata": {
    "cellId": "ixjdgj1dx1nxbdvegqmca",
    "id": "nwJYRyhP-Y75"
   },
   "source": [
    "Compile and train the model.\n",
    "\n",
    "This time we'll use **SparseCategoricalCrossentropy**, thus we don't need one hot encoding.\n",
    "\n",
    "https://www.tensorflow.org/api_docs/python/tf/keras/losses/SparseCategoricalCrossentropy"
   ]
  },
  {
   "cell_type": "code",
   "execution_count": null,
   "metadata": {
    "cellId": "m0detqzn6ugpmxmflxdgcj",
    "id": "9amZ4YrV-Uu9"
   },
   "outputs": [],
   "source": [
    "dense_model.compile(\n",
    "    optimizer='sgd',\n",
    "    loss=tf.keras.losses.SparseCategoricalCrossentropy(from_logits=True),\n",
    "    metrics=['accuracy'])"
   ]
  },
  {
   "cell_type": "code",
   "execution_count": null,
   "metadata": {
    "cellId": "nhbkjflyd3gk480jhw7tcs",
    "colab": {
     "base_uri": "https://localhost:8080/"
    },
    "id": "C6nkHFCZpy7V",
    "outputId": "b512ca04-c45f-4712-8a9b-88819e8ddb7f"
   },
   "outputs": [],
   "source": [
    "dense_model.summary()"
   ]
  },
  {
   "cell_type": "code",
   "execution_count": null,
   "metadata": {
    "cellId": "t2abrn9gf64q0ke40zm68",
    "id": "82lvBaKoq7Wf"
   },
   "outputs": [],
   "source": [
    "from livelossplot import PlotLossesKeras\n"
   ]
  },
  {
   "cell_type": "code",
   "execution_count": null,
   "metadata": {
    "cellId": "g3yya6y9gxh2gobo6nai6j",
    "colab": {
     "base_uri": "https://localhost:8080/",
     "height": 698
    },
    "id": "0XJ4A8F6-X9k",
    "outputId": "79eb4c88-57d1-4d97-a112-e604a9aa345c"
   },
   "outputs": [],
   "source": [
    "dense_model_history = dense_model.fit(train_dataset, validation_data=val_dataset, epochs=100, callbacks=[PlotLossesKeras()], verbose=False)"
   ]
  },
  {
   "cell_type": "markdown",
   "metadata": {
    "cellId": "ewuw5bkkicgbul1l66nvec",
    "id": "dgYDl4wJrUjH"
   },
   "source": [
    "### **Exercise**: add convolutions\n"
   ]
  },
  {
   "cell_type": "code",
   "execution_count": null,
   "metadata": {
    "cellId": "9cfsog8xy827i8fq5qe7o",
    "id": "mSBjXt94r_D9"
   },
   "outputs": [],
   "source": [
    "cnn_model = tf.keras.Sequential([\n",
    "    ### your code here\n",
    "])\n",
    "\n",
    "cnn_model.compile(\n",
    "    optimizer='sgd',\n",
    "    loss=tf.keras.losses.SparseCategoricalCrossentropy(from_logits=True),\n",
    "    metrics=['accuracy'])"
   ]
  },
  {
   "cell_type": "code",
   "execution_count": null,
   "metadata": {
    "cellId": "xtxj8dy37cik0r2mrk88a",
    "id": "IpEbWtHnsV9e"
   },
   "outputs": [],
   "source": [
    "cnn_model.summary()"
   ]
  },
  {
   "cell_type": "code",
   "execution_count": null,
   "metadata": {
    "cellId": "rjg4kpq162micgw3x7thj",
    "id": "O-_J1fWcsZ3t"
   },
   "outputs": [],
   "source": [
    "cnn_model_history = cnn_model.fit(train_dataset, validation_data=val_dataset, epochs=100, callbacks=[PlotLossesKeras()], verbose=False)"
   ]
  },
  {
   "cell_type": "markdown",
   "metadata": {
    "cellId": "y5rm8ptrnblxgo0gq5i4n",
    "id": "Ciif-hIdsfCG"
   },
   "source": [
    "### **Exercise**: add augmentations to the training dataset, look at the images\n",
    "\n",
    "https://www.tensorflow.org/tutorials/images/data_augmentation"
   ]
  },
  {
   "cell_type": "code",
   "execution_count": null,
   "metadata": {
    "cellId": "5m9tpngn6vd11xv7wmsc3u",
    "id": "YQKHgbxrt9mU"
   },
   "outputs": [],
   "source": [
    "data_augmentation = tf.keras.Sequential([\n",
    "  layers.RandomFlip(\"horizontal\"),\n",
    "  # layers.RandomRotation(0.1),\n",
    "])\n"
   ]
  },
  {
   "cell_type": "code",
   "execution_count": null,
   "metadata": {
    "cellId": "jo71q215c8llvkjfk6r1p",
    "id": "452UFPHswX8g"
   },
   "outputs": [],
   "source": [
    "import numpy as np\n",
    "\n",
    "augmented_train_dataset = train_dataset.map(\n",
    "  lambda x, y: (data_augmentation(x, training=True), y))"
   ]
  },
  {
   "cell_type": "code",
   "execution_count": null,
   "metadata": {
    "cellId": "v1r67p5vzhxg22jdn20cs",
    "colab": {
     "base_uri": "https://localhost:8080/",
     "height": 575
    },
    "id": "KHaxlu_PxWsZ",
    "outputId": "240d8ffd-5e22-482e-b99f-a066c5c54e8d"
   },
   "outputs": [],
   "source": [
    "data_augmentation_vis = tf.keras.Sequential([\n",
    "  layers.RandomFlip(\"horizontal_and_vertical\"),\n",
    "  layers.RandomRotation(0.1),\n",
    "])\n",
    "\n",
    "image = tf.cast(tf.expand_dims(train_images_full[6], 0), tf.float32)\n",
    "\n",
    "plt.figure(figsize=(10, 10))\n",
    "for i in range(9):\n",
    "  augmented_image = data_augmentation_vis(image, training=True)\n",
    "  ax = plt.subplot(3, 3, i + 1)\n",
    "  plt.imshow(augmented_image[0])\n",
    "  plt.axis(\"off\")"
   ]
  },
  {
   "cell_type": "code",
   "execution_count": null,
   "metadata": {
    "cellId": "hcgh1mve2q85lq90faz13b",
    "colab": {
     "base_uri": "https://localhost:8080/",
     "height": 575
    },
    "id": "tL_cjYLZ0TMh",
    "outputId": "2e598ba7-5409-453e-e83b-933c8c2cc091"
   },
   "outputs": [],
   "source": [
    "sample_x, sample_y = next(iter(augmented_train_dataset))\n",
    "\n",
    "plt.figure(figsize=(10, 10))\n",
    "for i in range(9):\n",
    "  ax = plt.subplot(3, 3, i + 1)\n",
    "  plt.imshow(sample_x[i])\n",
    "  plt.axis(\"off\")"
   ]
  },
  {
   "cell_type": "code",
   "execution_count": null,
   "metadata": {
    "cellId": "ohmiopvrxh15p6gd5urt5",
    "id": "jr-caRaEwxzp"
   },
   "outputs": [],
   "source": [
    "cnn_model_augmented_train = tf.keras.Sequential([\n",
    "    layers.Input(shape=input_shape), \n",
    "    layers.Conv2D(16, (3, 3), activation='relu', padding='same'),          \n",
    "    layers.MaxPooling2D((2, 2)),\n",
    "    layers.BatchNormalization(),\n",
    "    layers.Conv2D(32, (3, 3), activation='relu', padding='same'),\n",
    "    layers.MaxPooling2D((2, 2)),\n",
    "    layers.BatchNormalization(),\n",
    "    layers.Conv2D(64, (3, 3), activation='relu', padding='same'),\n",
    "    layers.MaxPooling2D((2, 2)),\n",
    "    layers.BatchNormalization(),\n",
    "    layers.Flatten(),\n",
    "    layers.Dense(64, activation='relu'),\n",
    "    layers.BatchNormalization(),\n",
    "    layers.Dense(10)\n",
    "])\n",
    "\n",
    "cnn_model_augmented_train.compile(\n",
    "    optimizer='sgd',\n",
    "    loss=tf.keras.losses.SparseCategoricalCrossentropy(from_logits=True),\n",
    "    metrics=['accuracy'])"
   ]
  },
  {
   "cell_type": "code",
   "execution_count": null,
   "metadata": {
    "cellId": "ooa7u4ty4u5t83xw8f97f",
    "colab": {
     "base_uri": "https://localhost:8080/",
     "height": 698
    },
    "id": "tnSl6g_Gw4vh",
    "outputId": "61e7806a-00b7-4bb4-f624-42707253de95"
   },
   "outputs": [],
   "source": [
    "cnn_model_augmented_train_history = cnn_model_augmented_train.fit(augmented_train_dataset, validation_data=val_dataset, epochs=100, callbacks=[PlotLossesKeras()], verbose=False)"
   ]
  },
  {
   "cell_type": "markdown",
   "metadata": {
    "cellId": "cf9eqy0u3l9fq6s1cre85i",
    "id": "AtJErTQQCeqC"
   },
   "source": [
    "### Comparison of the training plots\n"
   ]
  },
  {
   "cell_type": "code",
   "execution_count": null,
   "metadata": {
    "cellId": "4r5p7cvuj74o97ad0q8zz9",
    "id": "7qZnI0UlCmLB"
   },
   "outputs": [],
   "source": [
    "acc_dense = dense_model_history.history['accuracy']\n",
    "val_acc_dense = dense_model_history.history['val_accuracy']\n",
    "\n",
    "acc_cnn = cnn_model_history.history['accuracy']\n",
    "val_acc_cnn = cnn_model_history.history['val_accuracy']\n",
    "\n",
    "acc_cnn_aug = cnn_model_augmented_train_history.history['accuracy']\n",
    "val_acc_cnn_aug = cnn_model_augmented_train_history.history['val_accuracy']\n",
    "\n",
    "epochs_range = range(100)\n",
    "\n",
    "plt.figure(figsize=(16, 8))\n",
    "plt.subplot(1, 2, 1)\n",
    "plt.plot(epochs_range, acc_dense, label='Dense Training Accuracy')\n",
    "plt.plot(epochs_range, acc_cnn, label='CNN Training Accuracy')\n",
    "plt.plot(epochs_range, acc_cnn_aug, label='CNN Augmented Training Accuracy')\n",
    "plt.legend(loc='lower right')\n",
    "plt.title('Training Accuracy')\n",
    "\n",
    "plt.subplot(1, 2, 2)\n",
    "plt.plot(epochs_range, val_acc_dense, label='Dense Validation Accuracy')\n",
    "plt.plot(epochs_range, val_acc_cnn, label='CNN Validation Accuracy')\n",
    "plt.plot(epochs_range, val_acc_cnn_aug, label='CNN Augmented Validation Accuracy')\n",
    "plt.legend(loc='lower right')\n",
    "plt.title('Validation Accuracy')\n",
    "plt.show()"
   ]
  },
  {
   "cell_type": "markdown",
   "metadata": {
    "cellId": "7a5gccnugdvmbac6scjzd",
    "id": "nrLkYKxlw-Ux"
   },
   "source": [
    "### **Task**: add skip-connection\n",
    "\n",
    "https://www.tensorflow.org/api_docs/python/tf/keras/Model\n",
    "\n",
    "https://www.tensorflow.org/api_docs/python/tf/keras/layers/Add\n"
   ]
  }
 ],
 "metadata": {
  "accelerator": "GPU",
  "colab": {
   "collapsed_sections": [],
   "name": "Copy of ml_practice_6_intro_to_cv.ipynb",
   "provenance": []
  },
  "kernelspec": {
   "display_name": "Python 3 (ipykernel)",
   "language": "python",
   "name": "python3"
  },
  "language_info": {
   "codemirror_mode": {
    "name": "ipython",
    "version": 3
   },
   "file_extension": ".py",
   "mimetype": "text/x-python",
   "name": "python",
   "nbconvert_exporter": "python",
   "pygments_lexer": "ipython3",
   "version": "3.9.10"
  },
  "notebookId": "abb7eac7-8760-40f0-95cb-a591775059db",
  "notebookPath": "ml_practice_6_intro_to_cv.ipynb"
 },
 "nbformat": 4,
 "nbformat_minor": 4
}
