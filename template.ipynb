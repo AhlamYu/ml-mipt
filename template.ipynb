{
 "cells": [
  {
   "cell_type": "markdown",
   "metadata": {
    "ExecuteTime": {
     "end_time": "2022-02-12T17:19:44.218042Z",
     "start_time": "2022-02-12T17:19:44.210530Z"
    }
   },
   "source": [
    "<a href=\"https://girafe.ai/\" target=\"_blank\">\n",
    "    <img src=\"https://raw.githubusercontent.com/girafe-ai/ml-mipt/531422dc985eb45088a0f08420b53d37f23c0b8a/logo.svg\" alt=\"girafe-ai logo\" width=\"150px\" style=\"margin-right: 15px\" align=\"left\">\n",
    "</a>\n",
    "\n",
    "# [ml-mipt](https://github.com/girafe-ai/ml-mipt) basic course <a class=\"tocSkip\">"
   ]
  },
  {
   "cell_type": "markdown",
   "metadata": {
    "ExecuteTime": {
     "end_time": "2022-02-12T17:19:44.218042Z",
     "start_time": "2022-02-12T17:19:44.210530Z"
    }
   },
   "source": [
    "# Seminar 01: New seminar <a class=\"tocSkip\">"
   ]
  },
  {
   "cell_type": "markdown",
   "metadata": {},
   "source": [
    "---------------"
   ]
  },
  {
   "cell_type": "markdown",
   "metadata": {},
   "source": [
    "# <a href=\"https://girafe.ai/\" target=\"_blank\"><img src=\"https://raw.githubusercontent.com/girafe-ai/ml-mipt/531422dc985eb45088a0f08420b53d37f23c0b8a/logo.svg\" alt=\"girafe-ai logo\" width=\"150px\" style=\"margin-right: 15px\" align=\"left\"></a> [ml-mipt](https://github.com/girafe-ai/ml-mipt) basic course <a class=\"tocSkip\">"
   ]
  },
  {
   "cell_type": "code",
   "execution_count": null,
   "metadata": {},
   "outputs": [],
   "source": []
  }
 ],
 "metadata": {
  "kernelspec": {
   "display_name": "Python [conda env:ml-mipt]",
   "language": "python",
   "name": "conda-env-ml-mipt-py"
  },
  "language_info": {
   "codemirror_mode": {
    "name": "ipython",
    "version": 3
   },
   "file_extension": ".py",
   "mimetype": "text/x-python",
   "name": "python",
   "nbconvert_exporter": "python",
   "pygments_lexer": "ipython3",
   "version": "3.8.5"
  },
  "toc": {
   "base_numbering": 1,
   "nav_menu": {},
   "number_sections": true,
   "sideBar": true,
   "skip_h1_title": false,
   "title_cell": "Table of Contents",
   "title_sidebar": "Contents",
   "toc_cell": false,
   "toc_position": {
    "height": "calc(100% - 180px)",
    "left": "10px",
    "top": "150px",
    "width": "384px"
   },
   "toc_section_display": true,
   "toc_window_display": true
  }
 },
 "nbformat": 4,
 "nbformat_minor": 4
}
